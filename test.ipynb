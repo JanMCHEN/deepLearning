{
 "cells": [
  {
   "cell_type": "code",
   "execution_count": null,
   "metadata": {
    "collapsed": true
   },
   "outputs": [],
   "source": [
    "import tensorflow as tf\n",
    "sess = tf.Session()"
   ]
  },
  {
   "cell_type": "code",
   "execution_count": 18,
   "metadata": {},
   "outputs": [],
   "source": [
    "x1 = tf.constant([2, 3])\n",
    "x2 = tf.constant([3, 4])\n",
    "x3 = tf.eye(3)"
   ]
  },
  {
   "cell_type": "code",
   "execution_count": 19,
   "metadata": {
    "collapsed": true
   },
   "outputs": [
    {
     "data": {
      "text/plain": [
       "[array([ 6, 12]), array([[1., 0., 0.],\n        [0., 1., 0.],\n        [0., 0., 1.]], dtype=float32)]"
      ]
     },
     "execution_count": 19,
     "metadata": {},
     "output_type": "execute_result"
    }
   ],
   "source": [
    "# 点乘\n",
    "y1 = tf.multiply(x1, x2)\n",
    "# 矩阵乘法\n",
    "y2 = tf.matmul(x3, x3)\n",
    "\n",
    "sess.run([y1, y2])"
   ]
  },
  {
   "cell_type": "code",
   "execution_count": 21,
   "metadata": {},
   "outputs": [
    {
     "data": {
      "text/plain": [
       "[array([-1, -1]), array([-1, -1])]"
      ]
     },
     "execution_count": 21,
     "metadata": {},
     "output_type": "execute_result"
    }
   ],
   "source": [
    "# 减法\n",
    "y3 = tf.subtract(x1, x2)\n",
    "sess.run([y3, x1-x2])"
   ]
  },
  {
   "cell_type": "code",
   "execution_count": null,
   "metadata": {},
   "outputs": [],
   "source": [
    "# tf.nn.conv2d(input, filter, strides, *)\n",
    "# 输入张量一般为[batch, height, width, channels]（分别表示 batch_size, 也即样本的数目，单个样本的行数和列数，样本的频道数，rgb图像就是三维的，灰度图像则是一维），\n",
    "# 对于一个二维卷积操作而言，其主要作用在 height, width上。\n",
    "# strides参数确定了滑动窗口在各个维度上移动的步数。一种常用的经典设置就是要求，strides[0]=strides[3]=1。\n"
   ]
  }
 ],
 "metadata": {
  "kernelspec": {
   "display_name": "Python 2",
   "language": "python",
   "name": "python2"
  },
  "language_info": {
   "codemirror_mode": {
    "name": "ipython",
    "version": 2
   },
   "file_extension": ".py",
   "mimetype": "text/x-python",
   "name": "python",
   "nbconvert_exporter": "python",
   "pygments_lexer": "ipython2",
   "version": "2.7.6"
  }
 },
 "nbformat": 4,
 "nbformat_minor": 0
}
